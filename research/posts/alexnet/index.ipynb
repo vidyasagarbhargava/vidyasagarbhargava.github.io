{
 "cells": [
  {
   "cell_type": "raw",
   "metadata": {},
   "source": [
    "---\n",
    "title: \"Alexnet\"\n",
    "\n",
    "description: AlexNet is the first deep architecture which was introduced by one of the pioneers in deep learning **Geoffrey Hinton** and his colleagues. It is a simple yet powerful network architecture, which helped pave the way for groundbreaking research in Deep Learning as it is now.   \n",
    " \n",
    "author: \"Vidyasagar Bhargava\"\n",
    "date: \"05/12/2022\"\n",
    "categories:\n",
    "  - deep learning\n",
    "  - convolutional neural network\n",
    "  \n",
    "image: \"https://raw.githubusercontent.com/blurred-machine/Data-Science/master/Deep%20Learning%20SOTA/img/alexnet2.png\"\n",
    "---\n",
    "\n"
   ]
  },
  {
   "cell_type": "markdown",
   "metadata": {},
   "source": [
    "# Architecture\n",
    "![](https://raw.githubusercontent.com/blurred-machine/Data-Science/master/Deep%20Learning%20SOTA/img/alexnet2.png)"
   ]
  },
  {
   "cell_type": "markdown",
   "metadata": {},
   "source": []
  }
 ],
 "metadata": {
  "language_info": {
   "name": "python"
  }
 },
 "nbformat": 4,
 "nbformat_minor": 2
}
