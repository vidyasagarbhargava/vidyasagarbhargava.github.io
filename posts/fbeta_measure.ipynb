{
 "cells": [
  {
   "cell_type": "raw",
   "id": "b98c8b8a-75a3-4371-9a77-e32e6168b68a",
   "metadata": {},
   "source": [
    "---\n",
    "title: \"Fbeta-Measure\"\n",
    "description: \"The Fbeta-measure is a generalization of the F-measure that adds a configuration parameter called beta\"\n",
    "author: \"Vidyasagar Bhargava\"\n",
    "date: \"06/10/2022\"\n",
    "categories:\n",
    "  - model evaluation\n",
    "  - precision\n",
    "  - recall\n",
    "  - confusion matrix\n",
    "format:\n",
    "    html:\n",
    "        code-fold: false\n",
    "jupyter: python3\n",
    "execute: \n",
    "  enabled: false\n",
    "---"
   ]
  },
  {
   "cell_type": "markdown",
   "id": "b0905116-fd26-4666-953f-7ec0db4eec66",
   "metadata": {},
   "source": [
    "![](https://miro.medium.com/max/824/1*xMl_wkMt42Hy8i84zs2WGg.png)"
   ]
  },
  {
   "cell_type": "markdown",
   "id": "b1b0716f-1462-4f41-b4ff-070b2e57d7ff",
   "metadata": {},
   "source": [
    "Precision is a metric that calculates the percentage of correct predictions for the positive class. Recall calculates the percentage of correct predictions for the positive class out of all positive predictions that could be made. \n",
    "\n",
    "The F-measure is calculated as the harmonic mean of precision and recall, giving each the same weighting.It allows a model to be evaluated taking both the precision and recall into account using a single score, which is helpful when describing the performance of the model and in comparing models.\n",
    "\n",
    "The Fbeta-measure is a generalization of the F-measure that adds a configuration parameter called beta. A default beta value is 1.0, which is the same as the F-measure. A smaller beta value, such as 0.5, gives more weight to precision and less to recall, whereas a larger beta value, such as 2.0, gives less weight to precision and more weight to recall in the calculation of the score.\n",
    "\n",
    "**Summary**\n",
    "\n",
    "* Precision and recall provide two ways to summarize the errors made for the positive class in a binary classification problem.  \n",
    "* F-measure provides a single score that summarizes the precision and recall.  \n",
    "* Fbeta-measure provides a configurable version of the F-measure to give more or less attention to the precision and recall measure when calculating a single score."
   ]
  }
 ],
 "metadata": {
  "kernelspec": {
   "display_name": "databricks",
   "language": "python",
   "name": "databricks"
  },
  "language_info": {
   "codemirror_mode": {
    "name": "ipython",
    "version": 3
   },
   "file_extension": ".py",
   "mimetype": "text/x-python",
   "name": "python",
   "nbconvert_exporter": "python",
   "pygments_lexer": "ipython3",
   "version": "3.10.2"
  }
 },
 "nbformat": 4,
 "nbformat_minor": 5
}
