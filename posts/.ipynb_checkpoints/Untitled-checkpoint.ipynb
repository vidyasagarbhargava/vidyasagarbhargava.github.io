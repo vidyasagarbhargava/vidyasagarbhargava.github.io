{
 "cells": [
  {
   "cell_type": "code",
   "execution_count": null,
   "id": "2a24c7da-34c8-4dd3-ba74-7a5e644b7f73",
   "metadata": {},
   "outputs": [],
   "source": [
    "---\n",
    "title: \"Decision Tree\"\n",
    "description: \"\"\n",
    "author: \"Vidyasagar Bhargava\"\n",
    "date: \"07/08/2022\"\n",
    "categories:\n",
    "  - machine learning\n",
    "  - supervised learning\n",
    "  - algorithm\n",
    "  - classifier\n",
    "  - regression\n",
    "format:\n",
    "    html:\n",
    "        code-fold: false\n",
    "jupyter: python3\n",
    "execute: \n",
    "  enabled: true\n",
    "title-block-banner: true\n",
    "---"
   ]
  }
 ],
 "metadata": {
  "kernelspec": {
   "display_name": "databricks",
   "language": "python",
   "name": "databricks"
  },
  "language_info": {
   "codemirror_mode": {
    "name": "ipython",
    "version": 3
   },
   "file_extension": ".py",
   "mimetype": "text/x-python",
   "name": "python",
   "nbconvert_exporter": "python",
   "pygments_lexer": "ipython3",
   "version": "3.10.2"
  }
 },
 "nbformat": 4,
 "nbformat_minor": 5
}
