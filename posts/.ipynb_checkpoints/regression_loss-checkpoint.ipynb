{
 "cells": [
  {
   "cell_type": "raw",
   "id": "17dd964f-422e-4950-a61a-be8fb938270e",
   "metadata": {},
   "source": [
    "---\n",
    "title: \"Must know Regression Loss Functions\"\n",
    "description: \"A loss function is a measure how good a prediction model does in terms of being able to predict the expected outcome.\"\n",
    "author: \"Vidyasagar Bhargava\"\n",
    "date: \"06/15/2022\"\n",
    "categories:\n",
    "  - loss function\n",
    "  - regression\n",
    "  - objective function\n",
    "format:\n",
    "    html:\n",
    "        code-fold: false\n",
    "jupyter: python3\n",
    "execute: \n",
    "  enabled: true\n",
    "---"
   ]
  },
  {
   "cell_type": "markdown",
   "id": "17b6e56e-43c5-472e-846f-09d61109a50a",
   "metadata": {},
   "source": [
    "# Regression Loss\n",
    "\n",
    "1. Mean Square Error or Quadratic loss or L2 Loss\n",
    "2. Mean Absolute Error or L1 Loss\n",
    "3. Huber Loss or Smooth Mean Absolute Error\n",
    "4. Log-Cosh Loss\n",
    "5. Quantile Loss"
   ]
  },
  {
   "cell_type": "markdown",
   "id": "6c4eb582-4368-458f-b3f1-a33e1cac6bbf",
   "metadata": {},
   "source": []
  }
 ],
 "metadata": {
  "kernelspec": {
   "display_name": "databricks",
   "language": "python",
   "name": "databricks"
  },
  "language_info": {
   "codemirror_mode": {
    "name": "ipython",
    "version": 3
   },
   "file_extension": ".py",
   "mimetype": "text/x-python",
   "name": "python",
   "nbconvert_exporter": "python",
   "pygments_lexer": "ipython3",
   "version": "3.10.2"
  }
 },
 "nbformat": 4,
 "nbformat_minor": 5
}
