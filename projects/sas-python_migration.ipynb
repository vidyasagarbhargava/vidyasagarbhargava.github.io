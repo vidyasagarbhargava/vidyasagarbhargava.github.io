{
 "cells": [
  {
   "cell_type": "raw",
   "id": "bd85b64e-902b-4520-a01b-c24867c279f4",
   "metadata": {},
   "source": [
    "---\n",
    "title: \"SAS to Python Migration\"\n",
    "description: \"Worked on SAS scripts to be migrated on python using best coding practices\"\n",
    "author: \"HSBC\"\n",
    "date: \"06/06/2015\"\n",
    "categories:\n",
    "  - eda\n",
    "  - python\n",
    "format:\n",
    "    html:\n",
    "        code-fold: false\n",
    "jupyter: python3\n",
    "execute: \n",
    "  enabled: true\n",
    "title-block-banner: true\n",
    "---"
   ]
  },
  {
   "cell_type": "markdown",
   "id": "85d910c7-a941-42a0-8b44-3d88a8923731",
   "metadata": {},
   "source": [
    "![](https://mms.businesswire.com/media/20220314005340/en/313231/23/Logo_HSBC_edition_PANTONE_1795.jpg)"
   ]
  }
 ],
 "metadata": {
  "kernelspec": {
   "display_name": "Python 3 (ipykernel)",
   "language": "python",
   "name": "python3"
  },
  "language_info": {
   "codemirror_mode": {
    "name": "ipython",
    "version": 3
   },
   "file_extension": ".py",
   "mimetype": "text/x-python",
   "name": "python",
   "nbconvert_exporter": "python",
   "pygments_lexer": "ipython3",
   "version": "3.11.5"
  }
 },
 "nbformat": 4,
 "nbformat_minor": 5
}
