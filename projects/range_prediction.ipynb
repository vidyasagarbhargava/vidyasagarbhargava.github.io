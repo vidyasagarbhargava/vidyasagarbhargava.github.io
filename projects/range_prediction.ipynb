{
 "cells": [
  {
   "cell_type": "raw",
   "id": "80d14a2e-a81e-4c1e-b260-ba6775fe5636",
   "metadata": {},
   "source": [
    "---\n",
    "title: \"Range Prediction for Electric Vehicle \"\n",
    "description: \"Built a regression model for range prediction for electric bike.\"\n",
    "author: \"TVS Motor\"\n",
    "date: \"06/06/2015\"\n",
    "categories:\n",
    "  - eda\n",
    "  - python\n",
    "format:\n",
    "    html:\n",
    "        code-fold: false\n",
    "jupyter: python3\n",
    "execute: \n",
    "  enabled: true\n",
    "title-block-banner: true\n",
    "---"
   ]
  },
  {
   "cell_type": "markdown",
   "id": "2c531662-a5df-4626-957c-6310a07c06c5",
   "metadata": {},
   "source": [
    "![](https://1000logos.net/wp-content/uploads/2020/07/TVS-Motor-Company.png)"
   ]
  },
  {
   "cell_type": "code",
   "execution_count": 1,
   "id": "89737f34-6bc0-4742-9f1b-e51bc02e6d5b",
   "metadata": {},
   "outputs": [],
   "source": []
  }
 ],
 "metadata": {
  "kernelspec": {
   "display_name": "databricks",
   "language": "python",
   "name": "databricks"
  },
  "language_info": {
   "codemirror_mode": {
    "name": "ipython",
    "version": 3
   },
   "file_extension": ".py",
   "mimetype": "text/x-python",
   "name": "python",
   "nbconvert_exporter": "python",
   "pygments_lexer": "ipython3",
   "version": "3.10.2"
  }
 },
 "nbformat": 4,
 "nbformat_minor": 5
}
