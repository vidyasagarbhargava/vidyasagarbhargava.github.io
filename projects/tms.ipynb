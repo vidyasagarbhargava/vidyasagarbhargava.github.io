{
 "cells": [
  {
   "cell_type": "raw",
   "id": "b6084518-965f-42db-802d-b4d014a1ebeb",
   "metadata": {},
   "source": [
    "---\n",
    "title: \"Transport Management System\"\n",
    "description: \"Built an predictive model for freight charges for different carriers.\"\n",
    "author: \"Comcast\"\n",
    "date: \"06/06/2015\"\n",
    "categories:\n",
    "  - eda\n",
    "  - python\n",
    "format:\n",
    "    html:\n",
    "        code-fold: false\n",
    "jupyter: python3\n",
    "execute: \n",
    "  enabled: true\n",
    "title-block-banner: true\n",
    "---"
   ]
  },
  {
   "cell_type": "markdown",
   "id": "0e9dff34-1354-4a3e-ae6f-22a479415a14",
   "metadata": {},
   "source": [
    "![](https://cdn.vox-cdn.com/thumbor/hUHzO8CKdbvA0q4EimR4skTk8nk=/25x0:1074x590/1600x900/cdn.vox-cdn.com/assets/1860517/Screen_Shot_2012-12-11_at_8.42.48_AM.png)"
   ]
  },
  {
   "cell_type": "code",
   "execution_count": 1,
   "id": "3870dfb9-6e94-4c92-b628-b9d2ff2854d5",
   "metadata": {},
   "outputs": [],
   "source": []
  }
 ],
 "metadata": {
  "kernelspec": {
   "display_name": "databricks",
   "language": "python",
   "name": "databricks"
  },
  "language_info": {
   "codemirror_mode": {
    "name": "ipython",
    "version": 3
   },
   "file_extension": ".py",
   "mimetype": "text/x-python",
   "name": "python",
   "nbconvert_exporter": "python",
   "pygments_lexer": "ipython3",
   "version": "3.8.10"
  }
 },
 "nbformat": 4,
 "nbformat_minor": 5
}
