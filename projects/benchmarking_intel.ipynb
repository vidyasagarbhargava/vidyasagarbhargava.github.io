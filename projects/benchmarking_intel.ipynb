{
 "cells": [
  {
   "cell_type": "raw",
   "id": "851eb8b2-5c74-455e-affe-5895c83725ed",
   "metadata": {},
   "source": [
    "---\n",
    "title: \"Benchmarking for Intel Xeon Processor\"\n",
    "description: \"Performed benchmarking of Xeon processor for NLP task using distributed deep learning.\"\n",
    "author: \"Intel\"\n",
    "date: \"06/06/2015\"\n",
    "categories:\n",
    "  - eda\n",
    "  - python\n",
    "format:\n",
    "    html:\n",
    "        code-fold: false\n",
    "jupyter: python3\n",
    "execute: \n",
    "  enabled: true\n",
    "title-block-banner: true\n",
    "---"
   ]
  },
  {
   "cell_type": "markdown",
   "id": "96554899-fe33-42b4-9670-ed27018b5566",
   "metadata": {},
   "source": [
    "![](https://www.intel.com/etc.clientlibs/settings/wcm/designs/intel/us/en/images/resources/printlogo.png)"
   ]
  },
  {
   "cell_type": "code",
   "execution_count": 1,
   "id": "568e8826-7535-46fd-be34-d1f160c4492e",
   "metadata": {},
   "outputs": [],
   "source": []
  }
 ],
 "metadata": {
  "kernelspec": {
   "display_name": "databricks",
   "language": "python",
   "name": "databricks"
  },
  "language_info": {
   "codemirror_mode": {
    "name": "ipython",
    "version": 3
   },
   "file_extension": ".py",
   "mimetype": "text/x-python",
   "name": "python",
   "nbconvert_exporter": "python",
   "pygments_lexer": "ipython3",
   "version": "3.8.10"
  }
 },
 "nbformat": 4,
 "nbformat_minor": 5
}
