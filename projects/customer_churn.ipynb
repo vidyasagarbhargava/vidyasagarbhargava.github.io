{
 "cells": [
  {
   "cell_type": "raw",
   "id": "995fa915-f806-4a56-9a3a-61a864e5e4fb",
   "metadata": {},
   "source": [
    "---\n",
    "title: \"Churn Prediction for telecom client\"\n",
    "description: \"Built predictive model for predicting churning customer in next month\"\n",
    "author: \"GTA\"\n",
    "date: \"06/06/2015\"\n",
    "categories:\n",
    "  - eda\n",
    "  - python\n",
    "format:\n",
    "    html:\n",
    "        code-fold: false\n",
    "jupyter: python3\n",
    "execute: \n",
    "  enabled: true\n",
    "title-block-banner: true\n",
    "---"
   ]
  },
  {
   "cell_type": "markdown",
   "id": "b104fc87-5360-4a6e-9d5d-46478ebf5dbb",
   "metadata": {},
   "source": [
    "![](https://upload.wikimedia.org/wikipedia/en/thumb/6/63/GTA_Teleguam_logo.svg/640px-GTA_Teleguam_logo.svg.png)"
   ]
  },
  {
   "cell_type": "code",
   "execution_count": 1,
   "id": "1be5e6f2-d57d-4066-b33d-b39c3dfe24d6",
   "metadata": {},
   "outputs": [],
   "source": []
  }
 ],
 "metadata": {
  "kernelspec": {
   "display_name": "databricks",
   "language": "python",
   "name": "databricks"
  },
  "language_info": {
   "codemirror_mode": {
    "name": "ipython",
    "version": 3
   },
   "file_extension": ".py",
   "mimetype": "text/x-python",
   "name": "python",
   "nbconvert_exporter": "python",
   "pygments_lexer": "ipython3",
   "version": "3.8.10"
  }
 },
 "nbformat": 4,
 "nbformat_minor": 5
}
