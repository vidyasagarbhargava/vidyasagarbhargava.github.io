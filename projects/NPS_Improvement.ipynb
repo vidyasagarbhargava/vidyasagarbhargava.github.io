{
 "cells": [
  {
   "cell_type": "raw",
   "id": "d49b1297-9b30-4008-b513-6196846d9eec",
   "metadata": {},
   "source": [
    "---\n",
    "title: \"NPS Improvement\"\n",
    "description: \"Using Random forest model provided recommendation for NPS improvement\"\n",
    "author: \"Hewlett packard\"\n",
    "date: \"06/06/2015\"\n",
    "categories:\n",
    "  - eda\n",
    "  - python\n",
    "format:\n",
    "    html:\n",
    "        code-fold: false\n",
    "jupyter: python3\n",
    "execute: \n",
    "  enabled: true\n",
    "title-block-banner: true\n",
    "---"
   ]
  },
  {
   "cell_type": "markdown",
   "id": "60a550a7-e042-4b79-8637-784e5eee1849",
   "metadata": {},
   "source": [
    "![](https://www.mbaknol.com/wp-content/uploads/2018/08/HP-competitive-advantage-mbaknol-e1533359222900.png.webp)"
   ]
  },
  {
   "cell_type": "code",
   "execution_count": 1,
   "id": "9d55d671-203d-4ae1-bcf1-1b24d0ce3745",
   "metadata": {},
   "outputs": [],
   "source": []
  }
 ],
 "metadata": {
  "kernelspec": {
   "display_name": "databricks",
   "language": "python",
   "name": "databricks"
  },
  "language_info": {
   "codemirror_mode": {
    "name": "ipython",
    "version": 3
   },
   "file_extension": ".py",
   "mimetype": "text/x-python",
   "name": "python",
   "nbconvert_exporter": "python",
   "pygments_lexer": "ipython3",
   "version": "3.10.2"
  }
 },
 "nbformat": 4,
 "nbformat_minor": 5
}
