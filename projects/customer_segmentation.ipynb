{
 "cells": [
  {
   "cell_type": "raw",
   "id": "e5260c82-2001-45c5-8f6f-31736b278dec",
   "metadata": {},
   "source": [
    "---\n",
    "title: \"Customer Segmentation\"\n",
    "description: \"Performed customer segmentation using K-Mean technique\"\n",
    "author: \"Pepsico\"\n",
    "date: \"06/06/2015\"\n",
    "categories:\n",
    "  - eda\n",
    "  - python\n",
    "format:\n",
    "    html:\n",
    "        code-fold: false\n",
    "jupyter: python3\n",
    "execute: \n",
    "  enabled: true\n",
    "title-block-banner: true\n",
    "---"
   ]
  },
  {
   "cell_type": "markdown",
   "id": "3011c561-859d-41b6-80a7-58fa9bc72f4e",
   "metadata": {},
   "source": [
    "![](https://mma.prnewswire.com/media/733556/PepsiCo_LOGO.jpg?p=facebook)"
   ]
  },
  {
   "cell_type": "code",
   "execution_count": 1,
   "id": "13aebd32-480e-4f54-9441-e392e50a177d",
   "metadata": {},
   "outputs": [],
   "source": []
  }
 ],
 "metadata": {
  "kernelspec": {
   "display_name": "Python 3 (ipykernel)",
   "language": "python",
   "name": "python3"
  },
  "language_info": {
   "codemirror_mode": {
    "name": "ipython",
    "version": 3
   },
   "file_extension": ".py",
   "mimetype": "text/x-python",
   "name": "python",
   "nbconvert_exporter": "python",
   "pygments_lexer": "ipython3",
   "version": "3.11.5"
  }
 },
 "nbformat": 4,
 "nbformat_minor": 5
}
