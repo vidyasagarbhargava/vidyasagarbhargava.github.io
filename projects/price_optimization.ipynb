{
 "cells": [
  {
   "cell_type": "raw",
   "id": "9a623117-7db1-4cf1-a6a0-814d64651cc5",
   "metadata": {},
   "source": [
    "---\n",
    "title: \"Price Optimization Engine \"\n",
    "description: \"Built a price optimization for e-commerce company for automate price based on demand and supply curves.\"\n",
    "author: \"Snapdeal\"\n",
    "date: \"06/06/2015\"\n",
    "location: \"Gurgaon\"\n",
    "categories:\n",
    "  - eda\n",
    "  - python\n",
    "format:\n",
    "    html:\n",
    "        code-fold: false\n",
    "jupyter: python3\n",
    "execute: \n",
    "  enabled: true\n",
    "title-block-banner: true\n",
    "---"
   ]
  },
  {
   "cell_type": "markdown",
   "id": "77c1788a-ebcb-4ddb-97c7-a7b0e08e9c93",
   "metadata": {},
   "source": [
    "![](https://images.indianexpress.com/2021/01/snapdeal.jpg)"
   ]
  },
  {
   "cell_type": "code",
   "execution_count": 1,
   "id": "a3ca00e3-b2c3-4014-9f35-6cc828455cb7",
   "metadata": {},
   "outputs": [],
   "source": []
  }
 ],
 "metadata": {
  "kernelspec": {
   "display_name": "databricks",
   "language": "python",
   "name": "databricks"
  },
  "language_info": {
   "codemirror_mode": {
    "name": "ipython",
    "version": 3
   },
   "file_extension": ".py",
   "mimetype": "text/x-python",
   "name": "python",
   "nbconvert_exporter": "python",
   "pygments_lexer": "ipython3",
   "version": "3.10.2"
  }
 },
 "nbformat": 4,
 "nbformat_minor": 5
}
