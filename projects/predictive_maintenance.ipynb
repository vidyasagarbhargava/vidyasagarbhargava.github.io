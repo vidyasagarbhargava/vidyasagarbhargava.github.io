{
 "cells": [
  {
   "cell_type": "raw",
   "id": "10b9c35a-7d74-471f-87ce-733995f6e018",
   "metadata": {},
   "source": [
    "---\n",
    "title: \"Predictive Maintenance for NTORQ\"\n",
    "description: \"Built models for predictive maintenace of different parts of NTORQ vehicle\"\n",
    "\n",
    "format:\n",
    "    html:\n",
    "        code-fold: false\n",
    "jupyter: python3\n",
    "execute: \n",
    "  enabled: true\n",
    "title-block-banner: true\n",
    "---"
   ]
  },
  {
   "cell_type": "markdown",
   "id": "328844bc-e716-4a00-8703-d397d9aeb123",
   "metadata": {},
   "source": [
    "![](https://1000logos.net/wp-content/uploads/2020/07/TVS-Motor-Company.png)\n",
    "--------------------------------------------------------------------\n",
    "**Tools** :  python  \n",
    "**Machine learning** : Regression  \n",
    "**Role** : Lead Data Scientist  \n",
    "**Status** : In progress "
   ]
  },
  {
   "cell_type": "markdown",
   "id": "72bb468a-2667-46b5-93d9-2bd290fa73d9",
   "metadata": {},
   "source": []
  },
  {
   "cell_type": "code",
   "execution_count": 1,
   "id": "50d16fc0-15c1-497e-825d-274e13afc97b",
   "metadata": {},
   "outputs": [],
   "source": []
  }
 ],
 "metadata": {
  "kernelspec": {
   "display_name": "databricks",
   "language": "python",
   "name": "databricks"
  },
  "language_info": {
   "codemirror_mode": {
    "name": "ipython",
    "version": 3
   },
   "file_extension": ".py",
   "mimetype": "text/x-python",
   "name": "python",
   "nbconvert_exporter": "python",
   "pygments_lexer": "ipython3",
   "version": "3.10.2"
  }
 },
 "nbformat": 4,
 "nbformat_minor": 5
}
