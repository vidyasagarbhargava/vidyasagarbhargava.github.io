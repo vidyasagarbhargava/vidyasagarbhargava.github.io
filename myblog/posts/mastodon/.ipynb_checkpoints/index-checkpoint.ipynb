{
 "cells": [
  {
   "cell_type": "raw",
   "id": "86ad2c01-90df-404f-a421-821246e81d32",
   "metadata": {},
   "source": [
    "---\n",
    "title: \"Joined Mastodon\"\n",
    "description: \"I recently joined mastodon\"\n",
    "author: \"Vidyasagar Bhargava\"\n",
    "date: \"12/20/2022\"\n",
    "---"
   ]
  },
  {
   "cell_type": "raw",
   "id": "7f4988c2-0f1e-45d0-adc6-5a91a37f0c0f",
   "metadata": {},
   "source": [
    "I recently joined <a rel=\"me\" href=\"https://sigmoid.social/@vidyasagar\">Mastodon</a>"
   ]
  },
  {
   "cell_type": "markdown",
   "id": "c3cf8c83-b2c8-4e34-9b99-22edf51a6337",
   "metadata": {},
   "source": [
    "### What is Mastodon ?\n",
    "\n",
    "According to wiki Mastodon is free and open-source software for running self-hosted social networking services. It has microblogging features similar to Twitter, which are offered by a large number of independently run nodes, known as instances, each with its own code of conduct, terms of service, privacy policy, privacy options, and content moderation policies."
   ]
  },
  {
   "cell_type": "markdown",
   "id": "0c20b2c4-29fd-49eb-abe9-2dd8c831fcec",
   "metadata": {},
   "source": [
    "> Mastodon was created by Eugen Rochko and announced on Hacker News in October 2016 and gained significant adoption in 2022 in the wake of Twitter's acquisition by Elon Musk"
   ]
  },
  {
   "cell_type": "code",
   "execution_count": null,
   "id": "9e2045f9-f6e7-4442-ba06-ea54ecfa2b2d",
   "metadata": {},
   "outputs": [],
   "source": []
  }
 ],
 "metadata": {
  "kernelspec": {
   "display_name": "datascience",
   "language": "python",
   "name": "datascience"
  },
  "language_info": {
   "codemirror_mode": {
    "name": "ipython",
    "version": 3
   },
   "file_extension": ".py",
   "mimetype": "text/x-python",
   "name": "python",
   "nbconvert_exporter": "python",
   "pygments_lexer": "ipython3",
   "version": "3.9.13"
  }
 },
 "nbformat": 4,
 "nbformat_minor": 5
}
