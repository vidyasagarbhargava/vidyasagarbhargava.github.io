{
 "cells": [
  {
   "cell_type": "raw",
   "id": "86ad2c01-90df-404f-a421-821246e81d32",
   "metadata": {},
   "source": [
    "---\n",
    "title: \"Joined Mastodon\"\n",
    "description: \"I recently joined mastodon\"\n",
    "author: \"Vidyasagar Bhargava\"\n",
    "date: \"20/12/2022\"\n",
    "---"
   ]
  },
  {
   "cell_type": "raw",
   "id": "7f4988c2-0f1e-45d0-adc6-5a91a37f0c0f",
   "metadata": {},
   "source": [
    "I recently joined <a rel=\"me\" href=\"https://sigmoid.social/@vidyasagar\">Mastodon</a>"
   ]
  },
  {
   "cell_type": "code",
   "execution_count": null,
   "id": "a130fb39-0998-4fac-85b0-46cba505aad1",
   "metadata": {},
   "outputs": [],
   "source": []
  }
 ],
 "metadata": {
  "kernelspec": {
   "display_name": "datascience",
   "language": "python",
   "name": "datascience"
  },
  "language_info": {
   "codemirror_mode": {
    "name": "ipython",
    "version": 3
   },
   "file_extension": ".py",
   "mimetype": "text/x-python",
   "name": "python",
   "nbconvert_exporter": "python",
   "pygments_lexer": "ipython3",
   "version": "3.9.13"
  }
 },
 "nbformat": 4,
 "nbformat_minor": 5
}
