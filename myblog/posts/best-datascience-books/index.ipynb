{
 "cells": [
  {
   "cell_type": "raw",
   "id": "36cf07d2-d875-4f60-aa3f-0f1f86e328ee",
   "metadata": {},
   "source": [
    "---\n",
    "title: \"The Best Data Science Books\"\n",
    "\n",
    "description: \"Listing the best books available in the market right now for data science. \"\n",
    "\n",
    "author: \"Vidyasagar Bhargava\"\n",
    "date: \"01/16/2023\"\n",
    "categories:\n",
    "  - data science\n",
    "  - books \n",
    "title-block-banner: true \n",
    "---"
   ]
  },
  {
   "cell_type": "markdown",
   "id": "0802062e-9bd3-4610-a23a-434fc840f85d",
   "metadata": {},
   "source": [
    "I have seen many aspiring data scientists who wants to start their career in the field of data science but they are confused about the path and resources (because there are so many). Every individual has their own way of learning any topic. Some prefer books, some youtube video tutorial for understanding and some wants to learn from university or online certificate courses platform like coursera, Edx udemy etc..\n",
    "\n",
    "So I decided to write this post to those aspirants who are interested in learning data science through books. I have listed the best books for different categories. "
   ]
  },
  {
   "cell_type": "markdown",
   "id": "48272b4a-3abe-4b5c-b563-a1a038767cd3",
   "metadata": {},
   "source": [
    "### The Best books for learning data science are divided below categories  \n",
    "1. Python  \n",
    "2. Statistics and Mathematics  \n",
    "3. Machine Learning  \n",
    "4. Competitive Data Science  \n",
    "5. Productionize models  "
   ]
  },
  {
   "cell_type": "markdown",
   "id": "55edc812-bf01-41c2-a552-f1a4d1b87e9b",
   "metadata": {},
   "source": [
    "## 1. Python"
   ]
  },
  {
   "cell_type": "markdown",
   "id": "e23cbca0-dbf7-4cbd-816b-d5d46870810b",
   "metadata": {},
   "source": [
    "![](https://rukminim1.flixcart.com/image/416/416/kz5vwy80/book/v/i/3/fluent-python-original-imagb8dhcwh7pcqe.jpeg?q=70)  \n"
   ]
  },
  {
   "cell_type": "markdown",
   "id": "a23e8fe2-a240-4eab-b8e3-e3862b5df518",
   "metadata": {},
   "source": [
    "[Fluent Python](https://www.oreilly.com/library/view/fluent-python-2nd/9781492056348/)"
   ]
  },
  {
   "cell_type": "markdown",
   "id": "3987b676-687c-4269-a3ae-b95bab07a30a",
   "metadata": {},
   "source": [
    "![](https://jakevdp.github.io/PythonDataScienceHandbook/figures/PDSH-cover.png) "
   ]
  },
  {
   "cell_type": "markdown",
   "id": "8211e685-3c50-407b-9d56-d2271296a93e",
   "metadata": {},
   "source": [
    "[Python Data Science Handbook](https://www.oreilly.com/library/view/python-data-science/9781098121211/)"
   ]
  },
  {
   "cell_type": "markdown",
   "id": "b3dcc2d6-1fe3-4052-a247-bda46a4b0a58",
   "metadata": {},
   "source": [
    "## 2. Statistics and Mathematics\n",
    "\n",
    "![](https://www.abe.pl/cv/blarge/9/4/2/9781492072942.jpeg)  \n",
    "\n",
    "\n"
   ]
  },
  {
   "cell_type": "markdown",
   "id": "24ab2292-ca73-4fba-b45b-ea00a8bb1a5b",
   "metadata": {},
   "source": [
    "[Practical Statistics for Data Scientists](https://www.oreilly.com/library/view/practical-statistics-for/9781492072935/) "
   ]
  },
  {
   "cell_type": "markdown",
   "id": "534d201b-0919-437e-98e7-9ef5ab3efc37",
   "metadata": {},
   "source": [
    "![](https://m.media-amazon.com/images/I/51m41zdnpGL.jpg)   \n"
   ]
  },
  {
   "cell_type": "markdown",
   "id": "f697d42e-08a4-4770-9dc0-388bf8c483b6",
   "metadata": {},
   "source": [
    "[Mathematics for Machine Learning](https://mml-book.github.io/book/mml-book.pdf)"
   ]
  },
  {
   "cell_type": "markdown",
   "id": "2a6063aa-0aa1-49e0-9f7b-425e4d34d645",
   "metadata": {},
   "source": [
    "\n",
    "## 3. Machine Learning \n",
    "\n",
    "![](https://m.media-amazon.com/images/I/51zXCjSbo8L._SX260_.jpg) \n",
    "\n"
   ]
  },
  {
   "cell_type": "markdown",
   "id": "56d39933-2527-4593-a015-600798fbaee6",
   "metadata": {},
   "source": [
    "[Machine Learning with PyTorch and Scikit-Learn](https://www.oreilly.com/library/view/machine-learning-with/9781801819312/)"
   ]
  },
  {
   "cell_type": "markdown",
   "id": "48fb733f-faed-485b-9721-5f6535f7fabf",
   "metadata": {
    "tags": []
   },
   "source": [
    "## 4. Competitive Data Science  \n",
    "\n",
    "![](https://m.media-amazon.com/images/I/41w7uhlxSDL._SY445_SX342_QL70_ML2_.jpg)\n"
   ]
  },
  {
   "cell_type": "markdown",
   "id": "17f20ab0-fb2d-4508-9c17-98ccd4d7e11c",
   "metadata": {},
   "source": [
    "[The Kaggle Book](https://www.oreilly.com/library/view/the-kaggle-book/9781801817479/)"
   ]
  },
  {
   "cell_type": "markdown",
   "id": "669ec1ee-bde8-4709-aa24-c2e9dedc53b8",
   "metadata": {},
   "source": [
    "## 5. Productionize models\n",
    "\n",
    "![](https://m.media-amazon.com/images/I/416C6effXYL._SX386_BO1,204,203,200_.jpg)\n",
    "\n"
   ]
  },
  {
   "cell_type": "markdown",
   "id": "57730513-65ec-4877-9ee0-9ccd8ec54c06",
   "metadata": {},
   "source": [
    "[Designing Machine Learning Systems](https://www.oreilly.com/library/view/designing-machine-learning/9781098107956/)"
   ]
  }
 ],
 "metadata": {
  "kernelspec": {
   "display_name": "ds",
   "language": "python",
   "name": "ds"
  },
  "language_info": {
   "codemirror_mode": {
    "name": "ipython",
    "version": 3
   },
   "file_extension": ".py",
   "mimetype": "text/x-python",
   "name": "python",
   "nbconvert_exporter": "python",
   "pygments_lexer": "ipython3",
   "version": "3.11.5"
  }
 },
 "nbformat": 4,
 "nbformat_minor": 5
}
