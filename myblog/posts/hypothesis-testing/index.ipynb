{
 "cells": [
  {
   "cell_type": "markdown",
   "id": "4a3d5bc6-4cb6-4943-a7a5-e8dba8e75df3",
   "metadata": {},
   "source": [
    "---\n",
    "title: \"Hypothesis Testing\"\n",
    "\n",
    "description: A hypothesis testing is a way to test an assumption about a population parameter.\n",
    "\n",
    "author: \"Vidyasagar Bhargava\"\n",
    "date: \"16/04/2021\"\n",
    "categories:\n",
    "  - hypothesis testing\n",
    "  - inferential statistics\n",
    "image: foo.png\n",
    "---"
   ]
  },
  {
   "cell_type": "markdown",
   "id": "c33833c6-12cf-4bd5-a434-03bbfabf4845",
   "metadata": {},
   "source": [
    "During hypothesis testing we confirm whether results we got is by chance ? If yes then experiment won't be repeatable and so has little use.  \n",
    "\n",
    "Two ways of doing hypothesis testing are :-\n",
    "\n",
    "1. Using P-Value\n",
    "2. Using Critical Values\n",
    "\n",
    "\n",
    "\n",
    "Let's start with business case problem.\n",
    "\n",
    "*Q :- Suppose that a PM claims that users on average spend about Rs. 50 per month on Amazon. However, you doubt this claim, and you believe that the average should be higher. So you sample 100 users and learn that the sample mean is Rs. 85. Would you reject the PM's claim?\n",
    "Assume population standard deviation is 20*.\n",
    "\n",
    "## P-Value approach\n",
    "\n",
    "1. Hypothesis \n",
    "2. Significance level \n",
    "3. Test Statistics  \n",
    "4. Probability of observing test statistics\n",
    "5. Statistical Decision"
   ]
  },
  {
   "cell_type": "markdown",
   "id": "3b8d92a1-2eef-48ef-90ea-2704f52acfff",
   "metadata": {},
   "source": [
    "**1. Hypothesis**  \n",
    "Ho : the average spend per user is Rs. 50  \n",
    "Ha : the average spend per user is greater than Rs. 50\n",
    "\n",
    "\n",
    "**2. Significance level**\n",
    "\n",
    "$\\alpha = 0.05$  \n",
    "\n",
    "  \n",
    "**3. Test Statistics**\n",
    "\n",
    "$$\n",
    "Z-statistics  = \\frac{\\overline{X}-\\mu}{\\sigma/\\sqrt{n}}\n",
    "$$\n",
    "\n",
    "$$\n",
    "= \\frac{85-50}{20/\\sqrt{100}} =\\frac{35}{2} = 17.5\n",
    "$$\n",
    "\n",
    "**4. Probability of observing test statistics**  \n",
    "Looking into [standard normal distribution table](https://www.math.arizona.edu/~rsims/ma464/standardnormaltable.pdf). \n",
    "\n",
    "  \n",
    "$P-value < 0.0001 < \\alpha = 0.05$  \n",
    "\n",
    "**5. Statistical Decision**\n",
    "\n",
    "*At alpha = 0.05 there is statistical significance to reject PM's claim and conclude that the average spend per user is greater than Rs. 50.*"
   ]
  },
  {
   "cell_type": "markdown",
   "id": "3a7a776f-09e8-4814-8e77-9264cc05965a",
   "metadata": {},
   "source": [
    "\n",
    "Business Case problem   \n",
    "\n",
    "*Q :- A Principal claims that the student in his school are above average intelligence. A random sample of 30 IQ scores have a mean of 112.5. Is there sufficient evidence to support the principal's claim? The mean population IQ is 100 with standard deviation is 15.*\n",
    " \n",
    "\n",
    "\n",
    "\n",
    "## Critical Value Approach\n",
    "\n",
    "1. Hypothesis \n",
    "2. Significance level \n",
    "3. Test Statistics  \n",
    "4. Critical Value\n",
    "5. Statistical Decision\n"
   ]
  },
  {
   "cell_type": "code",
   "execution_count": 76,
   "id": "672d857c-a704-4f37-8acf-27aced35b112",
   "metadata": {},
   "outputs": [
    {
     "data": {
      "image/png": "[encoded data removed]",
      "text/plain": [
       "<Figure size 864x288 with 1 Axes>"
      ]
     },
     "metadata": {},
     "output_type": "display_data"
    }
   ],
   "source": [
    "#| echo: false\n",
    "\n",
    "sns.set(rc={'axes.facecolor':'#e6ddde', 'figure.facecolor':'#e6ddde'})\n",
    "import numpy as np\n",
    "import matplotlib.pyplot as plt\n",
    "from scipy.stats import norm\n",
    "import statistics\n",
    "import seaborn as sns\n",
    "np.random.seed(0)\n",
    "\n",
    "fig, ax = plt.subplots(figsize=(12, 4))\n",
    "x = np.random.normal(100 ,15 ,size=1000)\n",
    "\n",
    "#fig =sns.displot(x, kind='kde',color='#753742', ax=ax)\n",
    "sns.kdeplot(data=x, color='#753742', ax=ax)\n",
    "plt.savefig('foo.png')"
   ]
  },
  {
   "cell_type": "markdown",
   "id": "dc31e935-e802-4894-b95a-988bb9067d1e",
   "metadata": {},
   "source": [
    "**1. Hypothesis**  \n",
    "Ho : the average IQ score is 100  \n",
    "Ha : the average IQ score is greater than Rs. 100\n",
    "\n",
    "\n",
    "**2. Significance level**\n",
    "\n",
    "$\\alpha = 0.05$  \n",
    "\n",
    "  \n",
    "**3. Test Statistics**\n",
    "\n",
    "$$\n",
    "Z-statistics  = \\frac{\\overline{X}-\\mu}{\\sigma/\\sqrt{n}}\n",
    "$$\n",
    "\n",
    "$$\n",
    "= \\frac{112.5-100}{15/\\sqrt{30}} = 4.56\n",
    "$$\n",
    "\n",
    "**4. Z Critical Value**  \n",
    "Looking into [standard normal distribution table](https://www.math.arizona.edu/~rsims/ma464/standardnormaltable.pdf). \n",
    "\n",
    "  \n",
    "$Z Critical-value = 1.645$  \n",
    "\n",
    "**5. Statistical Decision**\n",
    "\n",
    "*At alpha = 0.05 test statistics is greater than Z Critical value hence we can reject null hypothesis.*\n",
    "\n",
    "\n",
    "\n"
   ]
  }
 ],
 "metadata": {
  "kernelspec": {
   "display_name": "databricks",
   "language": "python",
   "name": "databricks"
  },
  "language_info": {
   "codemirror_mode": {
    "name": "ipython",
    "version": 3
   },
   "file_extension": ".py",
   "mimetype": "text/x-python",
   "name": "python",
   "nbconvert_exporter": "python",
   "pygments_lexer": "ipython3",
   "version": "3.8.10"
  }
 },
 "nbformat": 4,
 "nbformat_minor": 5
}
