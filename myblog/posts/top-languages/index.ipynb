{
 "cells": [
  {
   "cell_type": "raw",
   "id": "90c6753c-aa44-43de-83ae-244c60809318",
   "metadata": {},
   "source": [
    "---\n",
    "title: \"Most Popular programming languages 2004-2021\"\n",
    "\n",
    "description: Using animation lets see how different programmming language rise in last couple of decades.  \n",
    "author: \"Vidyasagar Bhargava\"\n",
    "date: \"02/10/2022\"\n",
    "categories:\n",
    "  - data visualization\n",
    "  - animation \n",
    "image: \"https://i.imgur.com/gCcob0I.png\"\n",
    "---"
   ]
  },
  {
   "cell_type": "markdown",
   "id": "b3337a8a-dd3a-4bd0-924c-521a170d412a",
   "metadata": {
    "tags": []
   },
   "source": [
    "\n",
    "```{ojs}\n",
    "//| echo: false\n",
    "\n",
    "chart\n",
    "\n",
    "data = FileAttachment(\"pypl.csv\").csv({typed: true})\n",
    "\n",
    "formatNumber = d3.format(\".1%\")\n",
    "\n",
    "\n",
    "formatDate = d3.utcFormat(\"%b %Y\")\n",
    "\n",
    "tickFormat = \"%\"\n",
    "\n",
    "k = 2\n",
    "\n",
    "import {chart, viewof replay, d3} with {k, data, formatNumber, formatDate, tickFormat} from \"@d3/bar-chart-race\"\n",
    "\n",
    "```"
   ]
  }
 ],
 "metadata": {
  "kernelspec": {
   "display_name": "ds",
   "language": "python",
   "name": "ds"
  },
  "language_info": {
   "codemirror_mode": {
    "name": "ipython",
    "version": 3
   },
   "file_extension": ".py",
   "mimetype": "text/x-python",
   "name": "python",
   "nbconvert_exporter": "python",
   "pygments_lexer": "ipython3",
   "version": "3.11.5"
  }
 },
 "nbformat": 4,
 "nbformat_minor": 5
}
