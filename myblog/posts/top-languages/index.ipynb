{
 "cells": [
  {
   "cell_type": "raw",
   "id": "fce3200d-b490-4a51-bc52-c3a97f48477b",
   "metadata": {},
   "source": [
    "---\n",
    "title: \"Most Popular programming languages 2004-2021\"\n",
    "\n",
    "description: \"In last few decades we have seen rise of multiple languagues.\"\n",
    "author: \"Vidyasagar Bhargava\"\n",
    "date: \"06/11/2021\"\n",
    "categories:\n",
    "  - data visualization\n",
    "  - barchart\n",
    "image: \"https://i.imgur.com/66rQzN0.jpg\"\n",
    "---"
   ]
  },
  {
   "cell_type": "markdown",
   "id": "b3337a8a-dd3a-4bd0-924c-521a170d412a",
   "metadata": {},
   "source": [
    "```{ojs}\n",
    "//| echo: false\n",
    "chart\n",
    "\n",
    "data = FileAttachment(\"pypl.csv\").csv({typed: true})\n",
    "\n",
    "formatNumber = d3.format(\".1%\")\n",
    "\n",
    "\n",
    "formatDate = d3.utcFormat(\"%b %Y\")\n",
    "\n",
    "tickFormat = \"%\"\n",
    "\n",
    "k = 2\n",
    "\n",
    "import {chart, viewof replay, d3} with {k, data, formatNumber, formatDate, tickFormat} from \"@d3/bar-chart-race\"\n",
    "```"
   ]
  }
 ],
 "metadata": {
  "kernelspec": {
   "display_name": "databricks",
   "language": "python",
   "name": "databricks"
  },
  "language_info": {
   "codemirror_mode": {
    "name": "ipython",
    "version": 3
   },
   "file_extension": ".py",
   "mimetype": "text/x-python",
   "name": "python",
   "nbconvert_exporter": "python",
   "pygments_lexer": "ipython3",
   "version": "3.10.2"
  }
 },
 "nbformat": 4,
 "nbformat_minor": 5
}
