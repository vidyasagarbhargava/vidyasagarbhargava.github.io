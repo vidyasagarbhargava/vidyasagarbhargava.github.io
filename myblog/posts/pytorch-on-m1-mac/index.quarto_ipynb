{
  "cells": [
    {
      "cell_type": "markdown",
      "metadata": {},
      "source": [
        "---\n",
        "title: \"Accelerate computation on Mac using PyTorch and gpu support\"\n",
        "description: Running a experiment using pytorch tensors on cpu vs leveraging gpu support on M1 mac and see how much gain we get in terms of speed.\n",
        "author: \"Vidyasagar Bhargava\"\n",
        "date: \"5/1/2024\"\n",
        "categories:\n",
        "  - pytorch\n",
        "---\n",
        "\n",
        "\n",
        "## Introduction\n",
        "In year 2022 PyTorch and Metal engineering team at apple collaborated and announced support for GPU-accelerated pytorch operations on mac. Before that PyTorch operations on mac only leveraged CPU. But with PyTorch v1.12 release, developers and researchers can take advantage of Apple silicon GPUs for significantly faster model training as well.\n",
        "Here we will perform simple experiment to see the difference in doing tensor operations on CPU vs leveraging gpu support on M1 Mac.\n",
        "\n",
        "\n",
        "## Initial Setup\n",
        "In order to run the experiment we need to install below libraries.\n",
        "\n",
        "```bash\n",
        "!pip install torch torchvision torchaudio\n",
        "```\n",
        "\n",
        "# Experiment\n",
        "Once libraries are installed we can start experiment. In the experiment we will create simple PyTorch tensors and send on device `cpu` and `mps` one by one and measure the time taken to run multiplication operation.\n",
        "\n",
        "Lets start with creating some tensors"
      ],
      "id": "e85ddc52"
    },
    {
      "cell_type": "code",
      "metadata": {},
      "source": [
        "import torch\n",
        "\n",
        "\n",
        "def create_torch_tensors(device):\n",
        "    x = torch.rand((10000, 10000), dtype=torch.float32)\n",
        "    y = torch.rand((10000, 10000), dtype=torch.float32)\n",
        "    x = x.to(device)\n",
        "    y = y.to(device)\n",
        "\n",
        "    return x, y"
      ],
      "id": "024d960b",
      "execution_count": null,
      "outputs": []
    },
    {
      "cell_type": "markdown",
      "metadata": {},
      "source": [
        "moving tensor to cpu\n"
      ],
      "id": "2d421039"
    },
    {
      "cell_type": "code",
      "metadata": {},
      "source": [
        "device = torch.device(\"cpu\")\n",
        "x, y = create_torch_tensors(device)"
      ],
      "id": "8a3cba12",
      "execution_count": null,
      "outputs": []
    },
    {
      "cell_type": "markdown",
      "metadata": {},
      "source": [
        "Multiplying the tensors on `cpu` device.\n"
      ],
      "id": "bd4a915b"
    },
    {
      "cell_type": "code",
      "metadata": {},
      "source": [
        "%%timeit\n",
        "x * y"
      ],
      "id": "7e179385",
      "execution_count": null,
      "outputs": []
    },
    {
      "cell_type": "markdown",
      "metadata": {},
      "source": [
        "Now run the same operation using gpu of mac and see how much is improve.\n"
      ],
      "id": "0a069e66"
    },
    {
      "cell_type": "code",
      "metadata": {},
      "source": [
        "device = torch.device(\"mps\")\n",
        "x, y = create_torch_tensors(device)"
      ],
      "id": "97e2d6ff",
      "execution_count": null,
      "outputs": []
    },
    {
      "cell_type": "markdown",
      "metadata": {},
      "source": [
        "Multiplying the tensors on `mps` device."
      ],
      "id": "a8f3d1b7"
    },
    {
      "cell_type": "code",
      "metadata": {},
      "source": [
        "%%timeit\n",
        "x * y"
      ],
      "id": "a3ecdd67",
      "execution_count": null,
      "outputs": []
    },
    {
      "cell_type": "markdown",
      "metadata": {},
      "source": [
        "We can see there is significant improvement in speed when doing tensor operation using gpu."
      ],
      "id": "ce7a841a"
    }
  ],
  "metadata": {
    "kernelspec": {
      "display_name": "Python 3",
      "language": "python",
      "name": "python3"
    }
  },
  "nbformat": 4,
  "nbformat_minor": 5
}