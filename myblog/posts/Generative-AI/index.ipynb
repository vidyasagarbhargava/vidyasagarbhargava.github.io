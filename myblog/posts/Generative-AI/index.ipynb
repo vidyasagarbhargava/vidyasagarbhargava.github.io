{
 "cells": [
  {
   "cell_type": "raw",
   "id": "aa80e47c-0565-4af1-86eb-ac2325257517",
   "metadata": {},
   "source": [
    "---\n",
    "title: \"Introduction to Diffusion based Models\"\n",
    "\n",
    "description: In this post I will try to make you understand diffusion models.\n",
    "\n",
    "author: \"Vidyasagar Bhargava\"\n",
    "date: \"09/11/2023\"\n",
    "categories:\n",
    "  - diffusion models\n",
    "  - generative ai\n",
    "  \n",
    "image: \"https://i.imgur.com/J1w93Y9.png\"\n",
    "---"
   ]
  },
  {
   "cell_type": "markdown",
   "id": "219e1a2e-22a1-4224-9855-bd4b887c936f",
   "metadata": {},
   "source": [
    "## Diffusion Models\n",
    "Coming Soon"
   ]
  }
 ],
 "metadata": {
  "kernelspec": {
   "display_name": "ds",
   "language": "python",
   "name": "ds"
  },
  "language_info": {
   "codemirror_mode": {
    "name": "ipython",
    "version": 3
   },
   "file_extension": ".py",
   "mimetype": "text/x-python",
   "name": "python",
   "nbconvert_exporter": "python",
   "pygments_lexer": "ipython3",
   "version": "3.11.5"
  }
 },
 "nbformat": 4,
 "nbformat_minor": 5
}
