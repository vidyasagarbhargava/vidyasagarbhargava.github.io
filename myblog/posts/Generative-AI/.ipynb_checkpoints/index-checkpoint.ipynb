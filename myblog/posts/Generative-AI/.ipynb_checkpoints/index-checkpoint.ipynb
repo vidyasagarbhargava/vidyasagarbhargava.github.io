{
 "cells": [
  {
   "cell_type": "raw",
   "id": "aa80e47c-0565-4af1-86eb-ac2325257517",
   "metadata": {},
   "source": [
    "---\n",
    "title: \"Introduction to Diffusion based Models\"\n",
    "\n",
    "description: In this post I will try to make you understand diffusion models.\n",
    "\n",
    "author: \"Vidyasagar Bhargava\"\n",
    "date: \"09/11/2023\"\n",
    "categories:\n",
    "  - diffusion models\n",
    "  - generative ai\n",
    "  \n",
    "image: \"https://i.imgur.com/J1w93Y9.png\"\n",
    "---"
   ]
  },
  {
   "cell_type": "markdown",
   "id": "219e1a2e-22a1-4224-9855-bd4b887c936f",
   "metadata": {},
   "source": [
    "## Generative Model Evaluation\n",
    "A generative model is evaluated using FID scores (Fréchet Inception Distance). It measures how closely generated samples match real-world samples by comparing statistics between feature maps extracted from both sets of data using a pre-trained neural network. The lower the score, the better the quality and realism of generated images produced by a given model. \n",
    "\n",
    "Library like `clean-fid` is used to standardize the FID calculation."
   ]
  },
  {
   "cell_type": "code",
   "execution_count": null,
   "id": "12e3ad09-cebb-4b67-a26c-0eba40adaa23",
   "metadata": {},
   "outputs": [],
   "source": []
  }
 ],
 "metadata": {
  "kernelspec": {
   "display_name": "ds",
   "language": "python",
   "name": "ds"
  },
  "language_info": {
   "codemirror_mode": {
    "name": "ipython",
    "version": 3
   },
   "file_extension": ".py",
   "mimetype": "text/x-python",
   "name": "python",
   "nbconvert_exporter": "python",
   "pygments_lexer": "ipython3",
   "version": "3.11.5"
  }
 },
 "nbformat": 4,
 "nbformat_minor": 5
}
