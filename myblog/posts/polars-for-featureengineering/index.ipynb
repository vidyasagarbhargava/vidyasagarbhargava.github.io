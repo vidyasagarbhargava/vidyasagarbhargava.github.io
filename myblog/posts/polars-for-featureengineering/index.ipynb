{
 "cells": [
  {
   "cell_type": "raw",
   "metadata": {},
   "source": [
    "---\n",
    "title: \"Polars for Feature Engineering\"\n",
    "description: \"Polars is a high-performance DataFrame library, designed to provide fast and efficient data processing capabilities. Inspired by the reigning pandas library, Polars takes things to another level, offering a seamless experience for working with large datasets that might not fit into memory.\"\n",
    "author: \"Vidyasagar Bhargava\"\n",
    "date: \"01/03/2024\"\n",
    "categories:\n",
    "  - polars\n",
    "  - feature engineering\n",
    "jupyter: python3\n",
    "title-block-banner: true\n",
    "image: \"https://cdn.icon-icons.com/icons2/3914/PNG/512/polars_logo_icon_248809.png\"\n",
    "---"
   ]
  },
  {
   "cell_type": "markdown",
   "metadata": {},
   "source": [
    "Polars API are\n",
    "\n",
    "1.  Simple\n",
    "2.  Consistent\n",
    "3.  Grammar\n",
    "\n",
    "Most of the feature engineering task based on below 7 verbs\n",
    "\n",
    "| Task                            | verb          |\n",
    "|---------------------------------|---------------|\n",
    "| select/slice columns            | select        |\n",
    "| create/transform/assign columns | with_columns  |\n",
    "| filter/slice/query rows         | filter        |\n",
    "| join/merge other dataframes     | join & concat |\n",
    "| group dataframe rows            | group_by      |\n",
    "| aggregate groups                | agg           |\n",
    "| sort dataframe                  | sort          |\n",
    "\n",
    ": 7 Verbs Get Most Jobs done"
   ]
  },
  {
   "cell_type": "code",
   "execution_count": 1,
   "metadata": {},
   "outputs": [
    {
     "data": {
      "text/html": [
       "<div><style>\n",
       ".dataframe > thead > tr,\n",
       ".dataframe > tbody > tr {\n",
       "  text-align: right;\n",
       "  white-space: pre-wrap;\n",
       "}\n",
       "</style>\n",
       "<small>shape: (5, 9)</small><table border=\"1\" class=\"dataframe\"><thead><tr><th>id</th><th>gender</th><th>race/ethnicity</th><th>parental level of education</th><th>lunch</th><th>test preparation course</th><th>math score</th><th>reading score</th><th>writing score</th></tr><tr><td>i64</td><td>str</td><td>str</td><td>str</td><td>str</td><td>str</td><td>i64</td><td>i64</td><td>i64</td></tr></thead><tbody><tr><td>1</td><td>&quot;female&quot;</td><td>&quot;group B&quot;</td><td>&quot;bachelor&#x27;s deg…</td><td>&quot;standard&quot;</td><td>&quot;none&quot;</td><td>72</td><td>72</td><td>74</td></tr><tr><td>2</td><td>&quot;female&quot;</td><td>&quot;group C&quot;</td><td>&quot;some college&quot;</td><td>&quot;standard&quot;</td><td>&quot;completed&quot;</td><td>69</td><td>90</td><td>88</td></tr><tr><td>3</td><td>&quot;female&quot;</td><td>&quot;group B&quot;</td><td>&quot;master&#x27;s degre…</td><td>&quot;standard&quot;</td><td>&quot;none&quot;</td><td>90</td><td>95</td><td>93</td></tr><tr><td>4</td><td>&quot;male&quot;</td><td>&quot;group A&quot;</td><td>&quot;associate&#x27;s de…</td><td>&quot;free/reduced&quot;</td><td>&quot;none&quot;</td><td>47</td><td>57</td><td>44</td></tr><tr><td>5</td><td>&quot;male&quot;</td><td>&quot;group C&quot;</td><td>&quot;some college&quot;</td><td>&quot;standard&quot;</td><td>&quot;none&quot;</td><td>76</td><td>78</td><td>75</td></tr></tbody></table></div>"
      ],
      "text/plain": [
       "shape: (5, 9)\n",
       "┌─────┬────────┬───────────────┬───────────────┬───┬──────────────┬────────────┬─────────┬─────────┐\n",
       "│ id  ┆ gender ┆ race/ethnicit ┆ parental      ┆ … ┆ test         ┆ math score ┆ reading ┆ writing │\n",
       "│ --- ┆ ---    ┆ y             ┆ level of      ┆   ┆ preparation  ┆ ---        ┆ score   ┆ score   │\n",
       "│ i64 ┆ str    ┆ ---           ┆ education     ┆   ┆ course       ┆ i64        ┆ ---     ┆ ---     │\n",
       "│     ┆        ┆ str           ┆ ---           ┆   ┆ ---          ┆            ┆ i64     ┆ i64     │\n",
       "│     ┆        ┆               ┆ str           ┆   ┆ str          ┆            ┆         ┆         │\n",
       "╞═════╪════════╪═══════════════╪═══════════════╪═══╪══════════════╪════════════╪═════════╪═════════╡\n",
       "│ 1   ┆ female ┆ group B       ┆ bachelor's    ┆ … ┆ none         ┆ 72         ┆ 72      ┆ 74      │\n",
       "│     ┆        ┆               ┆ degree        ┆   ┆              ┆            ┆         ┆         │\n",
       "│ 2   ┆ female ┆ group C       ┆ some college  ┆ … ┆ completed    ┆ 69         ┆ 90      ┆ 88      │\n",
       "│ 3   ┆ female ┆ group B       ┆ master's      ┆ … ┆ none         ┆ 90         ┆ 95      ┆ 93      │\n",
       "│     ┆        ┆               ┆ degree        ┆   ┆              ┆            ┆         ┆         │\n",
       "│ 4   ┆ male   ┆ group A       ┆ associate's   ┆ … ┆ none         ┆ 47         ┆ 57      ┆ 44      │\n",
       "│     ┆        ┆               ┆ degree        ┆   ┆              ┆            ┆         ┆         │\n",
       "│ 5   ┆ male   ┆ group C       ┆ some college  ┆ … ┆ none         ┆ 76         ┆ 78      ┆ 75      │\n",
       "└─────┴────────┴───────────────┴───────────────┴───┴──────────────┴────────────┴─────────┴─────────┘"
      ]
     },
     "execution_count": 1,
     "metadata": {},
     "output_type": "execute_result"
    }
   ],
   "source": [
    "import polars as pl\n",
    "df = pl.read_csv(\"StudentsPerformance.csv\")\n",
    "df.head()"
   ]
  },
  {
   "cell_type": "markdown",
   "metadata": {},
   "source": [
    "\n",
    "## 1. Select Columns\n",
    "-   Selecting 1 column"
   ]
  },
  {
   "cell_type": "code",
   "execution_count": 2,
   "metadata": {},
   "outputs": [
    {
     "data": {
      "text/html": [
       "<div><style>\n",
       ".dataframe > thead > tr,\n",
       ".dataframe > tbody > tr {\n",
       "  text-align: right;\n",
       "  white-space: pre-wrap;\n",
       "}\n",
       "</style>\n",
       "<small>shape: (5, 1)</small><table border=\"1\" class=\"dataframe\"><thead><tr><th>gender</th></tr><tr><td>str</td></tr></thead><tbody><tr><td>&quot;female&quot;</td></tr><tr><td>&quot;female&quot;</td></tr><tr><td>&quot;female&quot;</td></tr><tr><td>&quot;male&quot;</td></tr><tr><td>&quot;male&quot;</td></tr></tbody></table></div>"
      ],
      "text/plain": [
       "shape: (5, 1)\n",
       "┌────────┐\n",
       "│ gender │\n",
       "│ ---    │\n",
       "│ str    │\n",
       "╞════════╡\n",
       "│ female │\n",
       "│ female │\n",
       "│ female │\n",
       "│ male   │\n",
       "│ male   │\n",
       "└────────┘"
      ]
     },
     "execution_count": 2,
     "metadata": {},
     "output_type": "execute_result"
    }
   ],
   "source": [
    "df.select(pl.col('gender')).head()"
   ]
  },
  {
   "cell_type": "markdown",
   "metadata": {},
   "source": [
    "-   Selecting two or more columns"
   ]
  },
  {
   "cell_type": "code",
   "execution_count": 3,
   "metadata": {},
   "outputs": [
    {
     "data": {
      "text/html": [
       "<div><style>\n",
       ".dataframe > thead > tr,\n",
       ".dataframe > tbody > tr {\n",
       "  text-align: right;\n",
       "  white-space: pre-wrap;\n",
       "}\n",
       "</style>\n",
       "<small>shape: (5, 2)</small><table border=\"1\" class=\"dataframe\"><thead><tr><th>gender</th><th>math score</th></tr><tr><td>str</td><td>i64</td></tr></thead><tbody><tr><td>&quot;female&quot;</td><td>72</td></tr><tr><td>&quot;female&quot;</td><td>69</td></tr><tr><td>&quot;female&quot;</td><td>90</td></tr><tr><td>&quot;male&quot;</td><td>47</td></tr><tr><td>&quot;male&quot;</td><td>76</td></tr></tbody></table></div>"
      ],
      "text/plain": [
       "shape: (5, 2)\n",
       "┌────────┬────────────┐\n",
       "│ gender ┆ math score │\n",
       "│ ---    ┆ ---        │\n",
       "│ str    ┆ i64        │\n",
       "╞════════╪════════════╡\n",
       "│ female ┆ 72         │\n",
       "│ female ┆ 69         │\n",
       "│ female ┆ 90         │\n",
       "│ male   ┆ 47         │\n",
       "│ male   ┆ 76         │\n",
       "└────────┴────────────┘"
      ]
     },
     "execution_count": 3,
     "metadata": {},
     "output_type": "execute_result"
    }
   ],
   "source": [
    "df.select(pl.col(['gender', 'math score'])).head()"
   ]
  },
  {
   "cell_type": "markdown",
   "metadata": {},
   "source": [
    "-   Selecting all the columns\n"
   ]
  },
  {
   "cell_type": "code",
   "execution_count": 4,
   "metadata": {},
   "outputs": [
    {
     "data": {
      "text/html": [
       "<div><style>\n",
       ".dataframe > thead > tr,\n",
       ".dataframe > tbody > tr {\n",
       "  text-align: right;\n",
       "  white-space: pre-wrap;\n",
       "}\n",
       "</style>\n",
       "<small>shape: (5, 9)</small><table border=\"1\" class=\"dataframe\"><thead><tr><th>id</th><th>gender</th><th>race/ethnicity</th><th>parental level of education</th><th>lunch</th><th>test preparation course</th><th>math score</th><th>reading score</th><th>writing score</th></tr><tr><td>i64</td><td>str</td><td>str</td><td>str</td><td>str</td><td>str</td><td>i64</td><td>i64</td><td>i64</td></tr></thead><tbody><tr><td>1</td><td>&quot;female&quot;</td><td>&quot;group B&quot;</td><td>&quot;bachelor&#x27;s deg…</td><td>&quot;standard&quot;</td><td>&quot;none&quot;</td><td>72</td><td>72</td><td>74</td></tr><tr><td>2</td><td>&quot;female&quot;</td><td>&quot;group C&quot;</td><td>&quot;some college&quot;</td><td>&quot;standard&quot;</td><td>&quot;completed&quot;</td><td>69</td><td>90</td><td>88</td></tr><tr><td>3</td><td>&quot;female&quot;</td><td>&quot;group B&quot;</td><td>&quot;master&#x27;s degre…</td><td>&quot;standard&quot;</td><td>&quot;none&quot;</td><td>90</td><td>95</td><td>93</td></tr><tr><td>4</td><td>&quot;male&quot;</td><td>&quot;group A&quot;</td><td>&quot;associate&#x27;s de…</td><td>&quot;free/reduced&quot;</td><td>&quot;none&quot;</td><td>47</td><td>57</td><td>44</td></tr><tr><td>5</td><td>&quot;male&quot;</td><td>&quot;group C&quot;</td><td>&quot;some college&quot;</td><td>&quot;standard&quot;</td><td>&quot;none&quot;</td><td>76</td><td>78</td><td>75</td></tr></tbody></table></div>"
      ],
      "text/plain": [
       "shape: (5, 9)\n",
       "┌─────┬────────┬───────────────┬───────────────┬───┬──────────────┬────────────┬─────────┬─────────┐\n",
       "│ id  ┆ gender ┆ race/ethnicit ┆ parental      ┆ … ┆ test         ┆ math score ┆ reading ┆ writing │\n",
       "│ --- ┆ ---    ┆ y             ┆ level of      ┆   ┆ preparation  ┆ ---        ┆ score   ┆ score   │\n",
       "│ i64 ┆ str    ┆ ---           ┆ education     ┆   ┆ course       ┆ i64        ┆ ---     ┆ ---     │\n",
       "│     ┆        ┆ str           ┆ ---           ┆   ┆ ---          ┆            ┆ i64     ┆ i64     │\n",
       "│     ┆        ┆               ┆ str           ┆   ┆ str          ┆            ┆         ┆         │\n",
       "╞═════╪════════╪═══════════════╪═══════════════╪═══╪══════════════╪════════════╪═════════╪═════════╡\n",
       "│ 1   ┆ female ┆ group B       ┆ bachelor's    ┆ … ┆ none         ┆ 72         ┆ 72      ┆ 74      │\n",
       "│     ┆        ┆               ┆ degree        ┆   ┆              ┆            ┆         ┆         │\n",
       "│ 2   ┆ female ┆ group C       ┆ some college  ┆ … ┆ completed    ┆ 69         ┆ 90      ┆ 88      │\n",
       "│ 3   ┆ female ┆ group B       ┆ master's      ┆ … ┆ none         ┆ 90         ┆ 95      ┆ 93      │\n",
       "│     ┆        ┆               ┆ degree        ┆   ┆              ┆            ┆         ┆         │\n",
       "│ 4   ┆ male   ┆ group A       ┆ associate's   ┆ … ┆ none         ┆ 47         ┆ 57      ┆ 44      │\n",
       "│     ┆        ┆               ┆ degree        ┆   ┆              ┆            ┆         ┆         │\n",
       "│ 5   ┆ male   ┆ group C       ┆ some college  ┆ … ┆ none         ┆ 76         ┆ 78      ┆ 75      │\n",
       "└─────┴────────┴───────────────┴───────────────┴───┴──────────────┴────────────┴─────────┴─────────┘"
      ]
     },
     "execution_count": 4,
     "metadata": {},
     "output_type": "execute_result"
    }
   ],
   "source": [
    "df.select(pl.col('*')).head()\n"
   ]
  },
  {
   "cell_type": "markdown",
   "metadata": {},
   "source": [
    "## 2. Create Columns\n",
    "\n",
    "-   Creating a new column \"sum\" by summing `math score` and `reading score`"
   ]
  },
  {
   "cell_type": "code",
   "execution_count": 5,
   "metadata": {},
   "outputs": [
    {
     "data": {
      "text/html": [
       "<div><style>\n",
       ".dataframe > thead > tr,\n",
       ".dataframe > tbody > tr {\n",
       "  text-align: right;\n",
       "  white-space: pre-wrap;\n",
       "}\n",
       "</style>\n",
       "<small>shape: (5, 10)</small><table border=\"1\" class=\"dataframe\"><thead><tr><th>id</th><th>gender</th><th>race/ethnicity</th><th>parental level of education</th><th>lunch</th><th>test preparation course</th><th>math score</th><th>reading score</th><th>writing score</th><th>sum</th></tr><tr><td>i64</td><td>str</td><td>str</td><td>str</td><td>str</td><td>str</td><td>i64</td><td>i64</td><td>i64</td><td>i64</td></tr></thead><tbody><tr><td>1</td><td>&quot;female&quot;</td><td>&quot;group B&quot;</td><td>&quot;bachelor&#x27;s deg…</td><td>&quot;standard&quot;</td><td>&quot;none&quot;</td><td>72</td><td>72</td><td>74</td><td>144</td></tr><tr><td>2</td><td>&quot;female&quot;</td><td>&quot;group C&quot;</td><td>&quot;some college&quot;</td><td>&quot;standard&quot;</td><td>&quot;completed&quot;</td><td>69</td><td>90</td><td>88</td><td>159</td></tr><tr><td>3</td><td>&quot;female&quot;</td><td>&quot;group B&quot;</td><td>&quot;master&#x27;s degre…</td><td>&quot;standard&quot;</td><td>&quot;none&quot;</td><td>90</td><td>95</td><td>93</td><td>185</td></tr><tr><td>4</td><td>&quot;male&quot;</td><td>&quot;group A&quot;</td><td>&quot;associate&#x27;s de…</td><td>&quot;free/reduced&quot;</td><td>&quot;none&quot;</td><td>47</td><td>57</td><td>44</td><td>104</td></tr><tr><td>5</td><td>&quot;male&quot;</td><td>&quot;group C&quot;</td><td>&quot;some college&quot;</td><td>&quot;standard&quot;</td><td>&quot;none&quot;</td><td>76</td><td>78</td><td>75</td><td>154</td></tr></tbody></table></div>"
      ],
      "text/plain": [
       "shape: (5, 10)\n",
       "┌─────┬────────┬────────────────┬────────────────┬───┬────────────┬─────────┬────────────────┬─────┐\n",
       "│ id  ┆ gender ┆ race/ethnicity ┆ parental level ┆ … ┆ math score ┆ reading ┆ writing score  ┆ sum │\n",
       "│ --- ┆ ---    ┆ ---            ┆ of education   ┆   ┆ ---        ┆ score   ┆ ---            ┆ --- │\n",
       "│ i64 ┆ str    ┆ str            ┆ ---            ┆   ┆ i64        ┆ ---     ┆ i64            ┆ i64 │\n",
       "│     ┆        ┆                ┆ str            ┆   ┆            ┆ i64     ┆                ┆     │\n",
       "╞═════╪════════╪════════════════╪════════════════╪═══╪════════════╪═════════╪════════════════╪═════╡\n",
       "│ 1   ┆ female ┆ group B        ┆ bachelor's     ┆ … ┆ 72         ┆ 72      ┆ 74             ┆ 144 │\n",
       "│     ┆        ┆                ┆ degree         ┆   ┆            ┆         ┆                ┆     │\n",
       "│ 2   ┆ female ┆ group C        ┆ some college   ┆ … ┆ 69         ┆ 90      ┆ 88             ┆ 159 │\n",
       "│ 3   ┆ female ┆ group B        ┆ master's       ┆ … ┆ 90         ┆ 95      ┆ 93             ┆ 185 │\n",
       "│     ┆        ┆                ┆ degree         ┆   ┆            ┆         ┆                ┆     │\n",
       "│ 4   ┆ male   ┆ group A        ┆ associate's    ┆ … ┆ 47         ┆ 57      ┆ 44             ┆ 104 │\n",
       "│     ┆        ┆                ┆ degree         ┆   ┆            ┆         ┆                ┆     │\n",
       "│ 5   ┆ male   ┆ group C        ┆ some college   ┆ … ┆ 76         ┆ 78      ┆ 75             ┆ 154 │\n",
       "└─────┴────────┴────────────────┴────────────────┴───┴────────────┴─────────┴────────────────┴─────┘"
      ]
     },
     "execution_count": 5,
     "metadata": {},
     "output_type": "execute_result"
    }
   ],
   "source": [
    "df.with_columns(\n",
    "    (pl.col('math score') + pl.col('reading score')).alias('sum')\n",
    ").head()"
   ]
  },
  {
   "cell_type": "markdown",
   "metadata": {},
   "source": [
    "## 3. Filter\n",
    "\n",
    "-   Simple filtering\n",
    "\n",
    "    selecting `female` students"
   ]
  },
  {
   "cell_type": "code",
   "execution_count": 6,
   "metadata": {},
   "outputs": [
    {
     "data": {
      "text/html": [
       "<div><style>\n",
       ".dataframe > thead > tr,\n",
       ".dataframe > tbody > tr {\n",
       "  text-align: right;\n",
       "  white-space: pre-wrap;\n",
       "}\n",
       "</style>\n",
       "<small>shape: (5, 9)</small><table border=\"1\" class=\"dataframe\"><thead><tr><th>id</th><th>gender</th><th>race/ethnicity</th><th>parental level of education</th><th>lunch</th><th>test preparation course</th><th>math score</th><th>reading score</th><th>writing score</th></tr><tr><td>i64</td><td>str</td><td>str</td><td>str</td><td>str</td><td>str</td><td>i64</td><td>i64</td><td>i64</td></tr></thead><tbody><tr><td>1</td><td>&quot;female&quot;</td><td>&quot;group B&quot;</td><td>&quot;bachelor&#x27;s deg…</td><td>&quot;standard&quot;</td><td>&quot;none&quot;</td><td>72</td><td>72</td><td>74</td></tr><tr><td>2</td><td>&quot;female&quot;</td><td>&quot;group C&quot;</td><td>&quot;some college&quot;</td><td>&quot;standard&quot;</td><td>&quot;completed&quot;</td><td>69</td><td>90</td><td>88</td></tr><tr><td>3</td><td>&quot;female&quot;</td><td>&quot;group B&quot;</td><td>&quot;master&#x27;s degre…</td><td>&quot;standard&quot;</td><td>&quot;none&quot;</td><td>90</td><td>95</td><td>93</td></tr><tr><td>6</td><td>&quot;female&quot;</td><td>&quot;group B&quot;</td><td>&quot;associate&#x27;s de…</td><td>&quot;standard&quot;</td><td>&quot;none&quot;</td><td>71</td><td>83</td><td>78</td></tr><tr><td>7</td><td>&quot;female&quot;</td><td>&quot;group B&quot;</td><td>&quot;some college&quot;</td><td>&quot;standard&quot;</td><td>&quot;completed&quot;</td><td>88</td><td>95</td><td>92</td></tr></tbody></table></div>"
      ],
      "text/plain": [
       "shape: (5, 9)\n",
       "┌─────┬────────┬───────────────┬───────────────┬───┬──────────────┬────────────┬─────────┬─────────┐\n",
       "│ id  ┆ gender ┆ race/ethnicit ┆ parental      ┆ … ┆ test         ┆ math score ┆ reading ┆ writing │\n",
       "│ --- ┆ ---    ┆ y             ┆ level of      ┆   ┆ preparation  ┆ ---        ┆ score   ┆ score   │\n",
       "│ i64 ┆ str    ┆ ---           ┆ education     ┆   ┆ course       ┆ i64        ┆ ---     ┆ ---     │\n",
       "│     ┆        ┆ str           ┆ ---           ┆   ┆ ---          ┆            ┆ i64     ┆ i64     │\n",
       "│     ┆        ┆               ┆ str           ┆   ┆ str          ┆            ┆         ┆         │\n",
       "╞═════╪════════╪═══════════════╪═══════════════╪═══╪══════════════╪════════════╪═════════╪═════════╡\n",
       "│ 1   ┆ female ┆ group B       ┆ bachelor's    ┆ … ┆ none         ┆ 72         ┆ 72      ┆ 74      │\n",
       "│     ┆        ┆               ┆ degree        ┆   ┆              ┆            ┆         ┆         │\n",
       "│ 2   ┆ female ┆ group C       ┆ some college  ┆ … ┆ completed    ┆ 69         ┆ 90      ┆ 88      │\n",
       "│ 3   ┆ female ┆ group B       ┆ master's      ┆ … ┆ none         ┆ 90         ┆ 95      ┆ 93      │\n",
       "│     ┆        ┆               ┆ degree        ┆   ┆              ┆            ┆         ┆         │\n",
       "│ 6   ┆ female ┆ group B       ┆ associate's   ┆ … ┆ none         ┆ 71         ┆ 83      ┆ 78      │\n",
       "│     ┆        ┆               ┆ degree        ┆   ┆              ┆            ┆         ┆         │\n",
       "│ 7   ┆ female ┆ group B       ┆ some college  ┆ … ┆ completed    ┆ 88         ┆ 95      ┆ 92      │\n",
       "└─────┴────────┴───────────────┴───────────────┴───┴──────────────┴────────────┴─────────┴─────────┘"
      ]
     },
     "execution_count": 6,
     "metadata": {},
     "output_type": "execute_result"
    }
   ],
   "source": [
    "df.filter(pl.col('gender')=='female').head()"
   ]
  },
  {
   "cell_type": "markdown",
   "metadata": {},
   "source": [
    "-   Multiple filtering\n",
    "\n",
    "    selecting `female` students those belong to `group B`"
   ]
  },
  {
   "cell_type": "code",
   "execution_count": 7,
   "metadata": {},
   "outputs": [
    {
     "data": {
      "text/html": [
       "<div><style>\n",
       ".dataframe > thead > tr,\n",
       ".dataframe > tbody > tr {\n",
       "  text-align: right;\n",
       "  white-space: pre-wrap;\n",
       "}\n",
       "</style>\n",
       "<small>shape: (5, 9)</small><table border=\"1\" class=\"dataframe\"><thead><tr><th>id</th><th>gender</th><th>race/ethnicity</th><th>parental level of education</th><th>lunch</th><th>test preparation course</th><th>math score</th><th>reading score</th><th>writing score</th></tr><tr><td>i64</td><td>str</td><td>str</td><td>str</td><td>str</td><td>str</td><td>i64</td><td>i64</td><td>i64</td></tr></thead><tbody><tr><td>1</td><td>&quot;female&quot;</td><td>&quot;group B&quot;</td><td>&quot;bachelor&#x27;s deg…</td><td>&quot;standard&quot;</td><td>&quot;none&quot;</td><td>72</td><td>72</td><td>74</td></tr><tr><td>3</td><td>&quot;female&quot;</td><td>&quot;group B&quot;</td><td>&quot;master&#x27;s degre…</td><td>&quot;standard&quot;</td><td>&quot;none&quot;</td><td>90</td><td>95</td><td>93</td></tr><tr><td>6</td><td>&quot;female&quot;</td><td>&quot;group B&quot;</td><td>&quot;associate&#x27;s de…</td><td>&quot;standard&quot;</td><td>&quot;none&quot;</td><td>71</td><td>83</td><td>78</td></tr><tr><td>7</td><td>&quot;female&quot;</td><td>&quot;group B&quot;</td><td>&quot;some college&quot;</td><td>&quot;standard&quot;</td><td>&quot;completed&quot;</td><td>88</td><td>95</td><td>92</td></tr><tr><td>10</td><td>&quot;female&quot;</td><td>&quot;group B&quot;</td><td>&quot;high school&quot;</td><td>&quot;free/reduced&quot;</td><td>&quot;none&quot;</td><td>38</td><td>60</td><td>50</td></tr></tbody></table></div>"
      ],
      "text/plain": [
       "shape: (5, 9)\n",
       "┌─────┬────────┬───────────────┬───────────────┬───┬──────────────┬────────────┬─────────┬─────────┐\n",
       "│ id  ┆ gender ┆ race/ethnicit ┆ parental      ┆ … ┆ test         ┆ math score ┆ reading ┆ writing │\n",
       "│ --- ┆ ---    ┆ y             ┆ level of      ┆   ┆ preparation  ┆ ---        ┆ score   ┆ score   │\n",
       "│ i64 ┆ str    ┆ ---           ┆ education     ┆   ┆ course       ┆ i64        ┆ ---     ┆ ---     │\n",
       "│     ┆        ┆ str           ┆ ---           ┆   ┆ ---          ┆            ┆ i64     ┆ i64     │\n",
       "│     ┆        ┆               ┆ str           ┆   ┆ str          ┆            ┆         ┆         │\n",
       "╞═════╪════════╪═══════════════╪═══════════════╪═══╪══════════════╪════════════╪═════════╪═════════╡\n",
       "│ 1   ┆ female ┆ group B       ┆ bachelor's    ┆ … ┆ none         ┆ 72         ┆ 72      ┆ 74      │\n",
       "│     ┆        ┆               ┆ degree        ┆   ┆              ┆            ┆         ┆         │\n",
       "│ 3   ┆ female ┆ group B       ┆ master's      ┆ … ┆ none         ┆ 90         ┆ 95      ┆ 93      │\n",
       "│     ┆        ┆               ┆ degree        ┆   ┆              ┆            ┆         ┆         │\n",
       "│ 6   ┆ female ┆ group B       ┆ associate's   ┆ … ┆ none         ┆ 71         ┆ 83      ┆ 78      │\n",
       "│     ┆        ┆               ┆ degree        ┆   ┆              ┆            ┆         ┆         │\n",
       "│ 7   ┆ female ┆ group B       ┆ some college  ┆ … ┆ completed    ┆ 88         ┆ 95      ┆ 92      │\n",
       "│ 10  ┆ female ┆ group B       ┆ high school   ┆ … ┆ none         ┆ 38         ┆ 60      ┆ 50      │\n",
       "└─────┴────────┴───────────────┴───────────────┴───┴──────────────┴────────────┴─────────┴─────────┘"
      ]
     },
     "execution_count": 7,
     "metadata": {},
     "output_type": "execute_result"
    }
   ],
   "source": [
    "df.filter(\n",
    "    (pl.col('gender')=='female') & \n",
    "    (pl.col('race/ethnicity')=='group B')\n",
    ").head()"
   ]
  },
  {
   "cell_type": "markdown",
   "metadata": {},
   "source": [
    "## 4. Join"
   ]
  },
  {
   "cell_type": "code",
   "execution_count": 8,
   "metadata": {},
   "outputs": [
    {
     "data": {
      "text/html": [
       "<div><style>\n",
       ".dataframe > thead > tr,\n",
       ".dataframe > tbody > tr {\n",
       "  text-align: right;\n",
       "  white-space: pre-wrap;\n",
       "}\n",
       "</style>\n",
       "<small>shape: (5, 10)</small><table border=\"1\" class=\"dataframe\"><thead><tr><th>id</th><th>gender</th><th>race/ethnicity</th><th>parental level of education</th><th>lunch</th><th>test preparation course</th><th>math score</th><th>reading score</th><th>writing score</th><th>language score</th></tr><tr><td>i64</td><td>str</td><td>str</td><td>str</td><td>str</td><td>str</td><td>i64</td><td>i64</td><td>i64</td><td>i64</td></tr></thead><tbody><tr><td>1</td><td>&quot;female&quot;</td><td>&quot;group B&quot;</td><td>&quot;bachelor&#x27;s deg…</td><td>&quot;standard&quot;</td><td>&quot;none&quot;</td><td>72</td><td>72</td><td>74</td><td>74</td></tr><tr><td>2</td><td>&quot;female&quot;</td><td>&quot;group C&quot;</td><td>&quot;some college&quot;</td><td>&quot;standard&quot;</td><td>&quot;completed&quot;</td><td>69</td><td>90</td><td>88</td><td>67</td></tr><tr><td>3</td><td>&quot;female&quot;</td><td>&quot;group B&quot;</td><td>&quot;master&#x27;s degre…</td><td>&quot;standard&quot;</td><td>&quot;none&quot;</td><td>90</td><td>95</td><td>93</td><td>34</td></tr><tr><td>4</td><td>&quot;male&quot;</td><td>&quot;group A&quot;</td><td>&quot;associate&#x27;s de…</td><td>&quot;free/reduced&quot;</td><td>&quot;none&quot;</td><td>47</td><td>57</td><td>44</td><td>33</td></tr><tr><td>5</td><td>&quot;male&quot;</td><td>&quot;group C&quot;</td><td>&quot;some college&quot;</td><td>&quot;standard&quot;</td><td>&quot;none&quot;</td><td>76</td><td>78</td><td>75</td><td>75</td></tr></tbody></table></div>"
      ],
      "text/plain": [
       "shape: (5, 10)\n",
       "┌─────┬────────┬─────────────────┬─────────────────┬───┬────────────┬─────────┬─────────┬──────────┐\n",
       "│ id  ┆ gender ┆ race/ethnicity  ┆ parental level  ┆ … ┆ math score ┆ reading ┆ writing ┆ language │\n",
       "│ --- ┆ ---    ┆ ---             ┆ of education    ┆   ┆ ---        ┆ score   ┆ score   ┆ score    │\n",
       "│ i64 ┆ str    ┆ str             ┆ ---             ┆   ┆ i64        ┆ ---     ┆ ---     ┆ ---      │\n",
       "│     ┆        ┆                 ┆ str             ┆   ┆            ┆ i64     ┆ i64     ┆ i64      │\n",
       "╞═════╪════════╪═════════════════╪═════════════════╪═══╪════════════╪═════════╪═════════╪══════════╡\n",
       "│ 1   ┆ female ┆ group B         ┆ bachelor's      ┆ … ┆ 72         ┆ 72      ┆ 74      ┆ 74       │\n",
       "│     ┆        ┆                 ┆ degree          ┆   ┆            ┆         ┆         ┆          │\n",
       "│ 2   ┆ female ┆ group C         ┆ some college    ┆ … ┆ 69         ┆ 90      ┆ 88      ┆ 67       │\n",
       "│ 3   ┆ female ┆ group B         ┆ master's degree ┆ … ┆ 90         ┆ 95      ┆ 93      ┆ 34       │\n",
       "│ 4   ┆ male   ┆ group A         ┆ associate's     ┆ … ┆ 47         ┆ 57      ┆ 44      ┆ 33       │\n",
       "│     ┆        ┆                 ┆ degree          ┆   ┆            ┆         ┆         ┆          │\n",
       "│ 5   ┆ male   ┆ group C         ┆ some college    ┆ … ┆ 76         ┆ 78      ┆ 75      ┆ 75       │\n",
       "└─────┴────────┴─────────────────┴─────────────────┴───┴────────────┴─────────┴─────────┴──────────┘"
      ]
     },
     "execution_count": 8,
     "metadata": {},
     "output_type": "execute_result"
    }
   ],
   "source": [
    "df2 = pl.read_csv('LanguageScore.csv')\n",
    "df.join(df2, on=\"id\").head()"
   ]
  },
  {
   "cell_type": "markdown",
   "metadata": {},
   "source": [
    "## Concat"
   ]
  },
  {
   "cell_type": "code",
   "execution_count": 9,
   "metadata": {},
   "outputs": [
    {
     "data": {
      "text/html": [
       "<div><style>\n",
       ".dataframe > thead > tr,\n",
       ".dataframe > tbody > tr {\n",
       "  text-align: right;\n",
       "  white-space: pre-wrap;\n",
       "}\n",
       "</style>\n",
       "<small>shape: (5, 10)</small><table border=\"1\" class=\"dataframe\"><thead><tr><th>id</th><th>gender</th><th>race/ethnicity</th><th>parental level of education</th><th>lunch</th><th>test preparation course</th><th>math score</th><th>reading score</th><th>writing score</th><th>language score</th></tr><tr><td>i64</td><td>str</td><td>str</td><td>str</td><td>str</td><td>str</td><td>i64</td><td>i64</td><td>i64</td><td>i64</td></tr></thead><tbody><tr><td>1</td><td>&quot;female&quot;</td><td>&quot;group B&quot;</td><td>&quot;bachelor&#x27;s deg…</td><td>&quot;standard&quot;</td><td>&quot;none&quot;</td><td>72</td><td>72</td><td>74</td><td>74</td></tr><tr><td>2</td><td>&quot;female&quot;</td><td>&quot;group C&quot;</td><td>&quot;some college&quot;</td><td>&quot;standard&quot;</td><td>&quot;completed&quot;</td><td>69</td><td>90</td><td>88</td><td>67</td></tr><tr><td>3</td><td>&quot;female&quot;</td><td>&quot;group B&quot;</td><td>&quot;master&#x27;s degre…</td><td>&quot;standard&quot;</td><td>&quot;none&quot;</td><td>90</td><td>95</td><td>93</td><td>34</td></tr><tr><td>4</td><td>&quot;male&quot;</td><td>&quot;group A&quot;</td><td>&quot;associate&#x27;s de…</td><td>&quot;free/reduced&quot;</td><td>&quot;none&quot;</td><td>47</td><td>57</td><td>44</td><td>33</td></tr><tr><td>5</td><td>&quot;male&quot;</td><td>&quot;group C&quot;</td><td>&quot;some college&quot;</td><td>&quot;standard&quot;</td><td>&quot;none&quot;</td><td>76</td><td>78</td><td>75</td><td>75</td></tr></tbody></table></div>"
      ],
      "text/plain": [
       "shape: (5, 10)\n",
       "┌─────┬────────┬─────────────────┬─────────────────┬───┬────────────┬─────────┬─────────┬──────────┐\n",
       "│ id  ┆ gender ┆ race/ethnicity  ┆ parental level  ┆ … ┆ math score ┆ reading ┆ writing ┆ language │\n",
       "│ --- ┆ ---    ┆ ---             ┆ of education    ┆   ┆ ---        ┆ score   ┆ score   ┆ score    │\n",
       "│ i64 ┆ str    ┆ str             ┆ ---             ┆   ┆ i64        ┆ ---     ┆ ---     ┆ ---      │\n",
       "│     ┆        ┆                 ┆ str             ┆   ┆            ┆ i64     ┆ i64     ┆ i64      │\n",
       "╞═════╪════════╪═════════════════╪═════════════════╪═══╪════════════╪═════════╪═════════╪══════════╡\n",
       "│ 1   ┆ female ┆ group B         ┆ bachelor's      ┆ … ┆ 72         ┆ 72      ┆ 74      ┆ 74       │\n",
       "│     ┆        ┆                 ┆ degree          ┆   ┆            ┆         ┆         ┆          │\n",
       "│ 2   ┆ female ┆ group C         ┆ some college    ┆ … ┆ 69         ┆ 90      ┆ 88      ┆ 67       │\n",
       "│ 3   ┆ female ┆ group B         ┆ master's degree ┆ … ┆ 90         ┆ 95      ┆ 93      ┆ 34       │\n",
       "│ 4   ┆ male   ┆ group A         ┆ associate's     ┆ … ┆ 47         ┆ 57      ┆ 44      ┆ 33       │\n",
       "│     ┆        ┆                 ┆ degree          ┆   ┆            ┆         ┆         ┆          │\n",
       "│ 5   ┆ male   ┆ group C         ┆ some college    ┆ … ┆ 76         ┆ 78      ┆ 75      ┆ 75       │\n",
       "└─────┴────────┴─────────────────┴─────────────────┴───┴────────────┴─────────┴─────────┴──────────┘"
      ]
     },
     "execution_count": 9,
     "metadata": {},
     "output_type": "execute_result"
    }
   ],
   "source": [
    "df2 = df2.drop(\"id\")\n",
    "pl.concat([df, df2], how=\"horizontal\").head()"
   ]
  },
  {
   "cell_type": "markdown",
   "metadata": {},
   "source": [
    "## 5. Group By\n",
    "\n",
    "Count total elements for each `race/ethnicity`"
   ]
  },
  {
   "cell_type": "code",
   "execution_count": 10,
   "metadata": {},
   "outputs": [
    {
     "data": {
      "text/html": [
       "<div><style>\n",
       ".dataframe > thead > tr,\n",
       ".dataframe > tbody > tr {\n",
       "  text-align: right;\n",
       "  white-space: pre-wrap;\n",
       "}\n",
       "</style>\n",
       "<small>shape: (5, 2)</small><table border=\"1\" class=\"dataframe\"><thead><tr><th>race/ethnicity</th><th>count</th></tr><tr><td>str</td><td>u32</td></tr></thead><tbody><tr><td>&quot;group B&quot;</td><td>190</td></tr><tr><td>&quot;group A&quot;</td><td>89</td></tr><tr><td>&quot;group D&quot;</td><td>262</td></tr><tr><td>&quot;group C&quot;</td><td>319</td></tr><tr><td>&quot;group E&quot;</td><td>140</td></tr></tbody></table></div>"
      ],
      "text/plain": [
       "shape: (5, 2)\n",
       "┌────────────────┬───────┐\n",
       "│ race/ethnicity ┆ count │\n",
       "│ ---            ┆ ---   │\n",
       "│ str            ┆ u32   │\n",
       "╞════════════════╪═══════╡\n",
       "│ group B        ┆ 190   │\n",
       "│ group A        ┆ 89    │\n",
       "│ group D        ┆ 262   │\n",
       "│ group C        ┆ 319   │\n",
       "│ group E        ┆ 140   │\n",
       "└────────────────┴───────┘"
      ]
     },
     "execution_count": 10,
     "metadata": {},
     "output_type": "execute_result"
    }
   ],
   "source": [
    "df.group_by('race/ethnicity').count()"
   ]
  },
  {
   "cell_type": "markdown",
   "metadata": {},
   "source": [
    "## 6. Aggregate\n",
    "\n",
    "average `math score` for females and males"
   ]
  },
  {
   "cell_type": "code",
   "execution_count": 11,
   "metadata": {},
   "outputs": [
    {
     "data": {
      "text/html": [
       "<div><style>\n",
       ".dataframe > thead > tr,\n",
       ".dataframe > tbody > tr {\n",
       "  text-align: right;\n",
       "  white-space: pre-wrap;\n",
       "}\n",
       "</style>\n",
       "<small>shape: (2, 2)</small><table border=\"1\" class=\"dataframe\"><thead><tr><th>gender</th><th>mean_score</th></tr><tr><td>str</td><td>f64</td></tr></thead><tbody><tr><td>&quot;male&quot;</td><td>68.728216</td></tr><tr><td>&quot;female&quot;</td><td>63.633205</td></tr></tbody></table></div>"
      ],
      "text/plain": [
       "shape: (2, 2)\n",
       "┌────────┬────────────┐\n",
       "│ gender ┆ mean_score │\n",
       "│ ---    ┆ ---        │\n",
       "│ str    ┆ f64        │\n",
       "╞════════╪════════════╡\n",
       "│ male   ┆ 68.728216  │\n",
       "│ female ┆ 63.633205  │\n",
       "└────────┴────────────┘"
      ]
     },
     "execution_count": 11,
     "metadata": {},
     "output_type": "execute_result"
    }
   ],
   "source": [
    "df.group_by('gender').agg(pl.col('math score').mean().alias('mean_score'))"
   ]
  },
  {
   "cell_type": "markdown",
   "metadata": {},
   "source": [
    "## 7. Sort\n",
    "\n",
    "sort the dataframe by `math score`"
   ]
  },
  {
   "cell_type": "code",
   "execution_count": 12,
   "metadata": {},
   "outputs": [
    {
     "data": {
      "text/html": [
       "<div><style>\n",
       ".dataframe > thead > tr,\n",
       ".dataframe > tbody > tr {\n",
       "  text-align: right;\n",
       "  white-space: pre-wrap;\n",
       "}\n",
       "</style>\n",
       "<small>shape: (5, 9)</small><table border=\"1\" class=\"dataframe\"><thead><tr><th>id</th><th>gender</th><th>race/ethnicity</th><th>parental level of education</th><th>lunch</th><th>test preparation course</th><th>math score</th><th>reading score</th><th>writing score</th></tr><tr><td>i64</td><td>str</td><td>str</td><td>str</td><td>str</td><td>str</td><td>i64</td><td>i64</td><td>i64</td></tr></thead><tbody><tr><td>150</td><td>&quot;male&quot;</td><td>&quot;group E&quot;</td><td>&quot;associate&#x27;s de…</td><td>&quot;free/reduced&quot;</td><td>&quot;completed&quot;</td><td>100</td><td>100</td><td>93</td></tr><tr><td>452</td><td>&quot;female&quot;</td><td>&quot;group E&quot;</td><td>&quot;some college&quot;</td><td>&quot;standard&quot;</td><td>&quot;none&quot;</td><td>100</td><td>92</td><td>97</td></tr><tr><td>459</td><td>&quot;female&quot;</td><td>&quot;group E&quot;</td><td>&quot;bachelor&#x27;s deg…</td><td>&quot;standard&quot;</td><td>&quot;none&quot;</td><td>100</td><td>100</td><td>100</td></tr><tr><td>624</td><td>&quot;male&quot;</td><td>&quot;group A&quot;</td><td>&quot;some college&quot;</td><td>&quot;standard&quot;</td><td>&quot;completed&quot;</td><td>100</td><td>96</td><td>86</td></tr><tr><td>626</td><td>&quot;male&quot;</td><td>&quot;group D&quot;</td><td>&quot;some college&quot;</td><td>&quot;standard&quot;</td><td>&quot;completed&quot;</td><td>100</td><td>97</td><td>99</td></tr></tbody></table></div>"
      ],
      "text/plain": [
       "shape: (5, 9)\n",
       "┌─────┬────────┬───────────────┬───────────────┬───┬──────────────┬────────────┬─────────┬─────────┐\n",
       "│ id  ┆ gender ┆ race/ethnicit ┆ parental      ┆ … ┆ test         ┆ math score ┆ reading ┆ writing │\n",
       "│ --- ┆ ---    ┆ y             ┆ level of      ┆   ┆ preparation  ┆ ---        ┆ score   ┆ score   │\n",
       "│ i64 ┆ str    ┆ ---           ┆ education     ┆   ┆ course       ┆ i64        ┆ ---     ┆ ---     │\n",
       "│     ┆        ┆ str           ┆ ---           ┆   ┆ ---          ┆            ┆ i64     ┆ i64     │\n",
       "│     ┆        ┆               ┆ str           ┆   ┆ str          ┆            ┆         ┆         │\n",
       "╞═════╪════════╪═══════════════╪═══════════════╪═══╪══════════════╪════════════╪═════════╪═════════╡\n",
       "│ 150 ┆ male   ┆ group E       ┆ associate's   ┆ … ┆ completed    ┆ 100        ┆ 100     ┆ 93      │\n",
       "│     ┆        ┆               ┆ degree        ┆   ┆              ┆            ┆         ┆         │\n",
       "│ 452 ┆ female ┆ group E       ┆ some college  ┆ … ┆ none         ┆ 100        ┆ 92      ┆ 97      │\n",
       "│ 459 ┆ female ┆ group E       ┆ bachelor's    ┆ … ┆ none         ┆ 100        ┆ 100     ┆ 100     │\n",
       "│     ┆        ┆               ┆ degree        ┆   ┆              ┆            ┆         ┆         │\n",
       "│ 624 ┆ male   ┆ group A       ┆ some college  ┆ … ┆ completed    ┆ 100        ┆ 96      ┆ 86      │\n",
       "│ 626 ┆ male   ┆ group D       ┆ some college  ┆ … ┆ completed    ┆ 100        ┆ 97      ┆ 99      │\n",
       "└─────┴────────┴───────────────┴───────────────┴───┴──────────────┴────────────┴─────────┴─────────┘"
      ]
     },
     "execution_count": 12,
     "metadata": {},
     "output_type": "execute_result"
    }
   ],
   "source": [
    "df.sort('math score',descending=True).head()"
   ]
  },
  {
   "cell_type": "code",
   "execution_count": null,
   "metadata": {},
   "outputs": [],
   "source": []
  }
 ],
 "metadata": {
  "kernelspec": {
   "display_name": "ds",
   "language": "python",
   "name": "ds"
  },
  "language_info": {
   "codemirror_mode": {
    "name": "ipython",
    "version": 3
   },
   "file_extension": ".py",
   "mimetype": "text/x-python",
   "name": "python",
   "nbconvert_exporter": "python",
   "pygments_lexer": "ipython3",
   "version": "3.11.5"
  }
 },
 "nbformat": 4,
 "nbformat_minor": 2
}
